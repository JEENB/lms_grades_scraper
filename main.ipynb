{
 "metadata": {
  "language_info": {
   "codemirror_mode": {
    "name": "ipython",
    "version": 3
   },
   "file_extension": ".py",
   "mimetype": "text/x-python",
   "name": "python",
   "nbconvert_exporter": "python",
   "pygments_lexer": "ipython3",
   "version": "3.9.4"
  },
  "orig_nbformat": 2,
  "kernelspec": {
   "name": "python394jvsc74a57bd063fd5069d213b44bf678585dea6b12cceca9941eaf7f819626cde1f2670de90d",
   "display_name": "Python 3.9.4 64-bit"
  },
  "metadata": {
   "interpreter": {
    "hash": "63fd5069d213b44bf678585dea6b12cceca9941eaf7f819626cde1f2670de90d"
   }
  }
 },
 "nbformat": 4,
 "nbformat_minor": 2,
 "cells": [
  {
   "cell_type": "code",
   "execution_count": 14,
   "metadata": {},
   "outputs": [],
   "source": [
    "from selenium import webdriver\n",
    "import time\n",
    "from selenium.webdriver.common.keys import Keys\n",
    "import getpass\n",
    "from selenium.webdriver.common.by import By\n",
    "import json\n",
    "from pathlib import Path\n",
    "import smtplib, ssl\n",
    "import pandas as pd"
   ]
  },
  {
   "cell_type": "code",
   "execution_count": 4,
   "metadata": {},
   "outputs": [
    {
     "output_type": "stream",
     "name": "stdout",
     "text": [
      "required file exists\n[['#', 'Code', 'Title', 'Grade', 'Credits', 'Grade Points'], ['Monsoon 2019'], ['1', 'CT-001', 'Introduction to Critical Thinking', 'B', '4', '12'], ['2', 'FC-0201', 'Indian Civilisations', 'B+', '4', '13.2'], ['3', 'FC-0305', 'Principles of Science', 'A', '4', '16'], ['4', 'LAN-0009', 'Sanskrit', 'A', '2', '8'], ['5', 'MAT-1005', 'Calculus', 'A', '4', '16'], ['', 'GPA: 3.62', 'Credits Earned: 18', 'CGPA: 3.62'], ['Spring 2020'], ['1', 'CS-1101/ PHY-1101', 'Introduction to Computer Programming', 'B+', '4', '13.2'], ['2', 'CS-1104', 'Discrete Mathematics', 'B+', '4', '13.2'], ['3', 'CT-1083/ BIO-1003', 'Survival Strategies', 'A-', '4', '14.8'], ['4', 'FC-0405', 'Social and Political Formations', 'A-', '4', '14.8'], ['5', 'MAT-1001/ CS-2210/ PHY-1001', 'Linear Algebra', 'A', '4', '16'], ['', 'GPA: 3.60', 'Credits Earned: 20', 'CGPA: 3.61'], ['Summer 2020'], ['1', 'FC-0102', 'Environmental Studies', 'A-', '4', '14.8'], ['2', 'FC-0503', 'Mind and Behaviour', 'B+', '4', '13.2'], ['', 'GPA: 3.50', 'Credits Earned: 8', 'CGPA: 3.59'], ['Monsoon 2020'], ['1', 'CS-1202', 'Advanced Programming', 'A-', '4', '14.8'], ['2', 'CS-1216', 'Computer Organization and Systems', 'B+', '4', '13.2'], ['3', 'MAT-2001', 'Algebra 1', 'P', '4', '0'], ['4', 'MAT-2003', 'Real Analysis', 'B+', '4', '13.2'], ['5', 'MAT-2006', 'Probability Theory', 'A', '4', '16'], ['', 'GPA: 3.58', 'Credits Earned: 20', 'CGPA: 3.59'], ['Spring 2021'], ['1', 'CS-1205', 'Algorithm Design and Analysis', '--', '--', '--'], ['2', 'CS-1217', 'Operating Systems', '--', '--', '--'], ['3', 'CS-2376/ PSY-2376', 'Data Mining and Warehousing', '--', '--', '--'], ['4', 'ECO-1001', 'Introduction to Economics', '--', '--', '--'], ['5', 'MAT-1004', 'Multivariable Calculus', '--', '--', '--'], ['', 'GPA: 0.00', 'Credits Earned:', 'CGPA: 3.59']]\n"
     ]
    },
    {
     "output_type": "execute_result",
     "data": {
      "text/plain": [
       "[['#', 'Code', 'Title', 'Grade', 'Credits', 'Grade Points'],\n",
       " ['Monsoon 2019'],\n",
       " ['1', 'CT-001', 'Introduction to Critical Thinking', 'B', '4', '12'],\n",
       " ['2', 'FC-0201', 'Indian Civilisations', 'B+', '4', '13.2'],\n",
       " ['3', 'FC-0305', 'Principles of Science', 'A', '4', '16'],\n",
       " ['4', 'LAN-0009', 'Sanskrit', 'A', '2', '8'],\n",
       " ['5', 'MAT-1005', 'Calculus', 'A', '4', '16'],\n",
       " ['', 'GPA: 3.62', 'Credits Earned: 18', 'CGPA: 3.62'],\n",
       " ['Spring 2020'],\n",
       " ['1',\n",
       "  'CS-1101/ PHY-1101',\n",
       "  'Introduction to Computer Programming',\n",
       "  'B+',\n",
       "  '4',\n",
       "  '13.2'],\n",
       " ['2', 'CS-1104', 'Discrete Mathematics', 'B+', '4', '13.2'],\n",
       " ['3', 'CT-1083/ BIO-1003', 'Survival Strategies', 'A-', '4', '14.8'],\n",
       " ['4', 'FC-0405', 'Social and Political Formations', 'A-', '4', '14.8'],\n",
       " ['5', 'MAT-1001/ CS-2210/ PHY-1001', 'Linear Algebra', 'A', '4', '16'],\n",
       " ['', 'GPA: 3.60', 'Credits Earned: 20', 'CGPA: 3.61'],\n",
       " ['Summer 2020'],\n",
       " ['1', 'FC-0102', 'Environmental Studies', 'A-', '4', '14.8'],\n",
       " ['2', 'FC-0503', 'Mind and Behaviour', 'B+', '4', '13.2'],\n",
       " ['', 'GPA: 3.50', 'Credits Earned: 8', 'CGPA: 3.59'],\n",
       " ['Monsoon 2020'],\n",
       " ['1', 'CS-1202', 'Advanced Programming', 'A-', '4', '14.8'],\n",
       " ['2', 'CS-1216', 'Computer Organization and Systems', 'B+', '4', '13.2'],\n",
       " ['3', 'MAT-2001', 'Algebra 1', 'P', '4', '0'],\n",
       " ['4', 'MAT-2003', 'Real Analysis', 'B+', '4', '13.2'],\n",
       " ['5', 'MAT-2006', 'Probability Theory', 'A', '4', '16'],\n",
       " ['', 'GPA: 3.58', 'Credits Earned: 20', 'CGPA: 3.59'],\n",
       " ['Spring 2021'],\n",
       " ['1', 'CS-1205', 'Algorithm Design and Analysis', '--', '--', '--'],\n",
       " ['2', 'CS-1217', 'Operating Systems', '--', '--', '--'],\n",
       " ['3', 'CS-2376/ PSY-2376', 'Data Mining and Warehousing', '--', '--', '--'],\n",
       " ['4', 'ECO-1001', 'Introduction to Economics', '--', '--', '--'],\n",
       " ['5', 'MAT-1004', 'Multivariable Calculus', '--', '--', '--'],\n",
       " ['', 'GPA: 0.00', 'Credits Earned:', 'CGPA: 3.59']]"
      ]
     },
     "metadata": {},
     "execution_count": 4
    }
   ],
   "source": [
    "sem_data = []\n",
    "user_data = []\n",
    "email = str(input(\"Email: \"))\n",
    "pswd = getpass.getpass(prompt=\"Password: \")\n",
    "\n",
    "def gradesScraper():\n",
    "    \n",
    "    \n",
    "\n",
    "    driver = webdriver.Chrome(\"./chromedriver.exe\")\n",
    "    driver.get(\"https://registration.ashoka.edu.in/\")\n",
    "\n",
    "    # driver.implicitly_wait(30)\n",
    "\n",
    "    #Allocate email fierld and enter email \n",
    "    email_Field = driver.find_element_by_id(\"identifierId\")\n",
    "    email_Field.send_keys(email)\n",
    "    email_Field.send_keys(Keys.RETURN)\n",
    "    time.sleep(5)\n",
    "\n",
    "    #allocate password field and enter\n",
    "    pswd_field = driver.find_element_by_name(\"password\")\n",
    "    pswd_field.send_keys(pswd)\n",
    "    pswd_field.send_keys(Keys.RETURN)\n",
    "    time.sleep(8)\n",
    "\n",
    "    #redirect to grades page\n",
    "    grades_link = \"https://registration.ashoka.edu.in/Contents/CourseManagement/StudentCourseReport_Student.aspx\"\n",
    "    driver.get(grades_link)\n",
    "\n",
    "    \n",
    "    for table in driver.find_elements_by_xpath('//*[contains(@id,\"tblListViewCR1\")]//tr'):\n",
    "        data = [item.text for item in table.find_elements_by_xpath(\".//*[self::td or self::th]\")]\n",
    "        user_data.append(data)\n",
    "    \n",
    "    \n",
    "    \n",
    "    for table in driver.find_elements_by_xpath('//*[contains(@id,\"tblListViewCR2\")]//tr'):\n",
    "        grades = [item.text for item in table.find_elements_by_xpath(\".//*[self::td or self::th]\")]\n",
    "        sem_data.append(grades)\n",
    "\n",
    "\n",
    "    #quit driver\n",
    "    time.sleep(3)\n",
    "    driver.quit()\n",
    "\n",
    "  \n",
    "    #checking if file exists or not and dumping into json\n",
    "    file = Path(\"output.json\")\n",
    "    if file.exists():\n",
    "        print(\"required file exists\")\n",
    "        print(sem_data)\n",
    "        return sem_data \n",
    "    else:\n",
    "        json_obj = json.dumps(sem_data, indent = 4)\n",
    "        print(\"no file exists writting to json\")\n",
    "        with open(\"output.json\", \"w\") as file:\n",
    "            file.write(json_obj)\n",
    "        return 0\n",
    "\n",
    "\n",
    "\n",
    "gradesScraper()"
   ]
  },
  {
   "cell_type": "code",
   "execution_count": 5,
   "metadata": {},
   "outputs": [
    {
     "output_type": "stream",
     "name": "stdout",
     "text": [
      "[['#', 'Code', 'Title', 'Grade', 'Credits', 'Grade Points'], ['Monsoon 2019'], ['1', 'CT-001', 'Introduction to Critical Thinking', 'B', '4', '12'], ['2', 'FC-0201', 'Indian Civilisations', 'B+', '4', '13.2'], ['3', 'FC-0305', 'Principles of Science', 'A', '4', '16'], ['4', 'LAN-0009', 'Sanskrit', 'A', '2', '8'], ['5', 'MAT-1005', 'Calculus', 'A', '4', '16'], ['', 'GPA: 3.62', 'Credits Earned: 18', 'CGPA: 3.62'], ['Spring 2020'], ['1', 'CS-1101/ PHY-1101', 'Introduction to Computer Programming', 'B+', '4', '13.2'], ['2', 'CS-1104', 'Discrete Mathematics', 'B+', '4', '13.2'], ['3', 'CT-1083/ BIO-1003', 'Survival Strategies', 'A-', '4', '14.8'], ['4', 'FC-0405', 'Social and Political Formations', 'A-', '4', '14.8'], ['5', 'MAT-1001/ CS-2210/ PHY-1001', 'Linear Algebra', 'A', '4', '16'], ['', 'GPA: 3.60', 'Credits Earned: 20', 'CGPA: 3.61'], ['Summer 2020'], ['1', 'FC-0102', 'Environmental Studies', 'A-', '4', '14.8'], ['2', 'FC-0503', 'Mind and Behaviour', 'B+', '4', '13.2'], ['', 'GPA: 3.50', 'Credits Earned: 8', 'CGPA: 3.59'], ['Monsoon 2020'], ['1', 'CS-1202', 'Advanced Programming', 'A-', '4', '14.8'], ['2', 'CS-1216', 'Computer Organization and Systems', 'B+', '4', '13.2'], ['3', 'MAT-2001', 'Algebra 1', 'P', '4', '0'], ['4', 'MAT-2003', 'Real Analysis', 'B+', '4', '13.2'], ['5', 'MAT-2006', 'Probability Theory', 'A', '4', '16'], ['', 'GPA: 3.58', 'Credits Earned: 20', 'CGPA: 3.59'], ['Spring 2021'], ['1', 'CS-1205', 'Algorithm Design and Analysis', '--', '--', '--'], ['2', 'CS-1217', 'Operating Systems', '--', '--', '--'], ['3', 'CS-2376/ PSY-2376', 'Data Mining and Warehousing', '--', '--', '--'], ['4', 'ECO-1001', 'Introduction to Economics', '--', '--', '--'], ['5', 'MAT-1004', 'Multivariable Calculus', '--', '--', '--'], ['', 'GPA: 0.00', 'Credits Earned:', 'CGPA: 3.59']]\n"
     ]
    }
   ],
   "source": [
    "print(sem_data)"
   ]
  },
  {
   "cell_type": "code",
   "execution_count": 6,
   "metadata": {},
   "outputs": [
    {
     "output_type": "stream",
     "name": "stdout",
     "text": [
      "Jenishraj\n"
     ]
    }
   ],
   "source": [
    "first_name = email.split('.')\n",
    "print(first_name[0].capitalize())"
   ]
  },
  {
   "cell_type": "code",
   "execution_count": 37,
   "metadata": {},
   "outputs": [
    {
     "output_type": "stream",
     "name": "stdout",
     "text": [
      "Multivariable Calculus: Grade not published\nIntroduction to Economics: Grade not published\nData Mining and Warehousing: Grade not published\nOperating Systems: Grade not published\nAlgorithm Design and Analysis: Grade not published\n[]\n"
     ]
    }
   ],
   "source": [
    "grades_list = []\n",
    "for data in reversed(sem_data):\n",
    "    if len(data) == 1:\n",
    "        break\n",
    "    if len(data) == 6:\n",
    "        if data[3] or data [4] or data[5] =='--':\n",
    "            print(\"{}: Grade not published\".format(data[2]))\n",
    "        else:\n",
    "            grades_list.append([data[2], data[1], data[3], data[4], data[5]])\n",
    "\n",
    "\n",
    "print(grades_list)\n",
    "# #email the grades with the user's email and password\n",
    "# smtp_server = 'smtp.gmail.com'\n",
    "# port = 465\n",
    "# context = ssl.create_default_context()\n",
    "# message = '''\\\n",
    "# From: {}\n",
    "# To: {}\n",
    "# Subject: Grades Update!!\n",
    "\n",
    "# Hi {}, \n",
    "# Your Grades for the following courses have been published.\n",
    "# {% for grades in grades_list: %}\n",
    "#     {{grades[0]}}: {{grades[2]}}\n",
    "# {% endfor %}\n",
    "\n",
    "\n",
    "# Thank you!!\n",
    "# '''.format(email, email,first_name[0].capitalize())\n",
    "# with smtplib.SMTP_SSL(smtp_server,port, context = context) as server:\n",
    "#     server.login(email, pswd)\n",
    "#     server.sendmail(email, email, message)\n",
    "\n",
    "\n",
    "    "
   ]
  },
  {
   "cell_type": "code",
   "execution_count": 26,
   "metadata": {},
   "outputs": [],
   "source": [
    "df = pd.DataFrame(grades_list, columns=['Course', 'Course Code', 'Grade', 'Credit', 'GPA'])"
   ]
  },
  {
   "cell_type": "code",
   "execution_count": 38,
   "metadata": {},
   "outputs": [
    {
     "output_type": "stream",
     "name": "stdout",
     "text": [
      "Deamonds@12\n"
     ]
    }
   ],
   "source": [
    "print(pswd)"
   ]
  },
  {
   "cell_type": "code",
   "execution_count": 35,
   "metadata": {},
   "outputs": [
    {
     "output_type": "execute_result",
     "data": {
      "text/plain": [
       "(221, b'2.0.0 closing connection 195sm14658028pfz.219 - gsmtp')"
      ]
     },
     "metadata": {},
     "execution_count": 35
    }
   ],
   "source": [
    "from email.mime.text import MIMEText\n",
    "from email.mime.application import MIMEApplication\n",
    "from email.mime.multipart import MIMEMultipart\n",
    "from smtplib import SMTP\n",
    "import smtplib\n",
    "import sys\n",
    "\n",
    "\n",
    "msg = MIMEMultipart()\n",
    "msg['Subject'] = \"Grades Update\"\n",
    "msg['From'] = email\n",
    "\n",
    "\n",
    "html = \"\"\"\\\n",
    "<html>\n",
    "  <head></head>\n",
    "  <body>\n",
    "    <p> Hi {0},</p>\n",
    "    <p> Your Grades for the following courses have been published.</p>\n",
    "    {1}\n",
    "    <p> Thank You!! </p>\n",
    "  </body> \n",
    "</html>\n",
    "\"\"\".format(first_name[0].capitalize(),df.to_html())\n",
    "\n",
    "part1 = MIMEText(html, 'html')\n",
    "msg.attach(part1)\n",
    "\n",
    "s = smtplib.SMTP_SSL('smtp.gmail.com', 465)\n",
    "# uncomment if interested in the actual smtp conversation\n",
    "# s.set_debuglevel(1)\n",
    "# do the smtp auth; sends ehlo if it hasn't been sent already\n",
    "s.login(email, pswd)\n",
    "\n",
    "s.sendmail(email,email, msg.as_string())\n",
    "s.quit()"
   ]
  },
  {
   "cell_type": "code",
   "execution_count": null,
   "metadata": {},
   "outputs": [],
   "source": []
  }
 ]
}